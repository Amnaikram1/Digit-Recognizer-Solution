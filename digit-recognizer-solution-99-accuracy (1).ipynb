{
 "cells": [
  {
   "cell_type": "code",
   "execution_count": 1,
   "id": "39a9b4f4",
   "metadata": {
    "_cell_guid": "b1076dfc-b9ad-4769-8c92-a6c4dae69d19",
    "_uuid": "8f2839f25d086af736a60e9eeb907d3b93b6e0e5",
    "execution": {
     "iopub.execute_input": "2024-07-07T21:19:20.000185Z",
     "iopub.status.busy": "2024-07-07T21:19:19.999263Z",
     "iopub.status.idle": "2024-07-07T21:19:20.786749Z",
     "shell.execute_reply": "2024-07-07T21:19:20.785742Z"
    },
    "papermill": {
     "duration": 0.795925,
     "end_time": "2024-07-07T21:19:20.788969",
     "exception": false,
     "start_time": "2024-07-07T21:19:19.993044",
     "status": "completed"
    },
    "tags": []
   },
   "outputs": [
    {
     "name": "stdout",
     "output_type": "stream",
     "text": [
      "/kaggle/input/mnist-dataset/train-images.idx3-ubyte\n",
      "/kaggle/input/mnist-dataset/t10k-labels.idx1-ubyte\n",
      "/kaggle/input/mnist-dataset/t10k-images.idx3-ubyte\n",
      "/kaggle/input/mnist-dataset/train-labels.idx1-ubyte\n",
      "/kaggle/input/mnist-dataset/t10k-labels-idx1-ubyte/t10k-labels-idx1-ubyte\n",
      "/kaggle/input/mnist-dataset/t10k-images-idx3-ubyte/t10k-images-idx3-ubyte\n",
      "/kaggle/input/mnist-dataset/train-labels-idx1-ubyte/train-labels-idx1-ubyte\n",
      "/kaggle/input/mnist-dataset/train-images-idx3-ubyte/train-images-idx3-ubyte\n"
     ]
    }
   ],
   "source": [
    "# This Python 3 environment comes with many helpful analytics libraries installed\n",
    "# It is defined by the kaggle/python Docker image: https://github.com/kaggle/docker-python\n",
    "# For example, here's several helpful packages to load\n",
    "\n",
    "import numpy as np # linear algebra\n",
    "import pandas as pd # data processing, CSV file I/O (e.g. pd.read_csv)\n",
    "\n",
    "# Input data files are available in the read-only \"../input/\" directory\n",
    "# For example, running this (by clicking run or pressing Shift+Enter) will list all files under the input directory\n",
    "\n",
    "import os\n",
    "for dirname, _, filenames in os.walk('/kaggle/input'):\n",
    "    for filename in filenames:\n",
    "        print(os.path.join(dirname, filename))\n",
    "\n",
    "# You can write up to 20GB to the current directory (/kaggle/working/) that gets preserved as output when you create a version using \"Save & Run All\" \n",
    "# You can also write temporary files to /kaggle/temp/, but they won't be saved outside of the current session"
   ]
  },
  {
   "cell_type": "markdown",
   "id": "001c3507",
   "metadata": {
    "papermill": {
     "duration": 0.003666,
     "end_time": "2024-07-07T21:19:20.796874",
     "exception": false,
     "start_time": "2024-07-07T21:19:20.793208",
     "status": "completed"
    },
    "tags": []
   },
   "source": [
    "# Struct Library to Unpack Image Data"
   ]
  },
  {
   "cell_type": "code",
   "execution_count": 2,
   "id": "f57634a4",
   "metadata": {
    "execution": {
     "iopub.execute_input": "2024-07-07T21:19:20.806145Z",
     "iopub.status.busy": "2024-07-07T21:19:20.805697Z",
     "iopub.status.idle": "2024-07-07T21:19:20.812421Z",
     "shell.execute_reply": "2024-07-07T21:19:20.811557Z"
    },
    "papermill": {
     "duration": 0.013528,
     "end_time": "2024-07-07T21:19:20.814378",
     "exception": false,
     "start_time": "2024-07-07T21:19:20.800850",
     "status": "completed"
    },
    "tags": []
   },
   "outputs": [],
   "source": [
    "import struct\n",
    "\n",
    "def read_idx(filename):\n",
    "    # Open the file in binary mode for reading\n",
    "    with open(filename, 'rb') as f:\n",
    "        # Read the first 4 bytes and unpack them\n",
    "        # '>HBB' means: \n",
    "        # '>' - big-endian\n",
    "        # 'H' - unsigned short (2 bytes)\n",
    "        # 'B' - unsigned byte (1 byte)\n",
    "        zero, data_type, dims = struct.unpack('>HBB', f.read(4))\n",
    "        \n",
    "        # Read the dimensions of the data\n",
    "        # '>I' means: \n",
    "        # '>' - big-endian\n",
    "        # 'I' - unsigned int (4 bytes)\n",
    "        shape = tuple(struct.unpack('>I', f.read(4))[0] for d in range(dims))\n",
    "        \n",
    "        # Read the remaining bytes and interpret them as unsigned 8-bit integers (uint8)\n",
    "        # Reshape the flat array into the shape specified by the header\n",
    "        return np.frombuffer(f.read(), dtype=np.uint8).reshape(shape)\n"
   ]
  },
  {
   "cell_type": "markdown",
   "id": "d06b12e4",
   "metadata": {
    "papermill": {
     "duration": 0.003728,
     "end_time": "2024-07-07T21:19:20.821990",
     "exception": false,
     "start_time": "2024-07-07T21:19:20.818262",
     "status": "completed"
    },
    "tags": []
   },
   "source": [
    "## Load the Dataset"
   ]
  },
  {
   "cell_type": "code",
   "execution_count": 3,
   "id": "65cd2c6c",
   "metadata": {
    "execution": {
     "iopub.execute_input": "2024-07-07T21:19:20.830845Z",
     "iopub.status.busy": "2024-07-07T21:19:20.830538Z",
     "iopub.status.idle": "2024-07-07T21:19:20.835866Z",
     "shell.execute_reply": "2024-07-07T21:19:20.834961Z"
    },
    "papermill": {
     "duration": 0.012141,
     "end_time": "2024-07-07T21:19:20.837882",
     "exception": false,
     "start_time": "2024-07-07T21:19:20.825741",
     "status": "completed"
    },
    "tags": []
   },
   "outputs": [],
   "source": [
    "def load_mnist(image_path, label_path):\n",
    "    images = read_idx(image_path)\n",
    "    labels = read_idx(label_path)\n",
    "    return images, labels\n",
    "\n",
    "train_image_path = '/kaggle/input/mnist-dataset/train-images-idx3-ubyte/train-images-idx3-ubyte'\n",
    "train_label_path = '/kaggle/input/mnist-dataset/train-labels-idx1-ubyte/train-labels-idx1-ubyte'\n",
    "test_image_path =  '/kaggle/input/mnist-dataset/t10k-images-idx3-ubyte/t10k-images-idx3-ubyte'\n",
    "test_label_path =  '/kaggle/input/mnist-dataset/t10k-labels-idx1-ubyte/t10k-labels-idx1-ubyte'"
   ]
  },
  {
   "cell_type": "code",
   "execution_count": 4,
   "id": "a44b6973",
   "metadata": {
    "execution": {
     "iopub.execute_input": "2024-07-07T21:19:20.846918Z",
     "iopub.status.busy": "2024-07-07T21:19:20.846630Z",
     "iopub.status.idle": "2024-07-07T21:19:21.582053Z",
     "shell.execute_reply": "2024-07-07T21:19:21.581093Z"
    },
    "papermill": {
     "duration": 0.742354,
     "end_time": "2024-07-07T21:19:21.584297",
     "exception": false,
     "start_time": "2024-07-07T21:19:20.841943",
     "status": "completed"
    },
    "tags": []
   },
   "outputs": [
    {
     "name": "stdout",
     "output_type": "stream",
     "text": [
      "Train images shape: (60000, 28, 28)\n",
      "Train labels shape: (60000,)\n",
      "Test images shape: (10000, 28, 28)\n",
      "Test labels shape: (10000,)\n"
     ]
    }
   ],
   "source": [
    "train_images, train_labels = load_mnist(train_image_path, train_label_path)\n",
    "test_images, test_labels = load_mnist(test_image_path, test_label_path)\n",
    "\n",
    "# print the shapes\n",
    "print(f'Train images shape: {train_images.shape}')\n",
    "print(f'Train labels shape: {train_labels.shape}')\n",
    "print(f'Test images shape: {test_images.shape}')\n",
    "print(f'Test labels shape: {test_labels.shape}')"
   ]
  },
  {
   "cell_type": "code",
   "execution_count": 5,
   "id": "5bc1c222",
   "metadata": {
    "execution": {
     "iopub.execute_input": "2024-07-07T21:19:21.593979Z",
     "iopub.status.busy": "2024-07-07T21:19:21.593631Z",
     "iopub.status.idle": "2024-07-07T21:19:21.598800Z",
     "shell.execute_reply": "2024-07-07T21:19:21.597906Z"
    },
    "papermill": {
     "duration": 0.012312,
     "end_time": "2024-07-07T21:19:21.600774",
     "exception": false,
     "start_time": "2024-07-07T21:19:21.588462",
     "status": "completed"
    },
    "tags": []
   },
   "outputs": [],
   "source": [
    "# Reshae the arrays\n",
    "train_images_flat = train_images.reshape(train_images.shape[0], -1)\n",
    "test_images_flat = test_images.reshape(test_images.shape[0], -1)\n",
    "\n",
    "X_train = train_images_flat\n",
    "y_train = train_labels\n",
    "X_test = test_images_flat\n",
    "y_test = test_labels"
   ]
  },
  {
   "cell_type": "code",
   "execution_count": 6,
   "id": "affeaeb0",
   "metadata": {
    "execution": {
     "iopub.execute_input": "2024-07-07T21:19:21.609888Z",
     "iopub.status.busy": "2024-07-07T21:19:21.609589Z",
     "iopub.status.idle": "2024-07-07T21:19:21.629767Z",
     "shell.execute_reply": "2024-07-07T21:19:21.628873Z"
    },
    "papermill": {
     "duration": 0.027392,
     "end_time": "2024-07-07T21:19:21.632188",
     "exception": false,
     "start_time": "2024-07-07T21:19:21.604796",
     "status": "completed"
    },
    "tags": []
   },
   "outputs": [
    {
     "name": "stdout",
     "output_type": "stream",
     "text": [
      "Label 5: Count 5421\n",
      "Label 0: Count 5923\n",
      "Label 4: Count 5842\n",
      "Label 1: Count 6742\n",
      "Label 9: Count 5949\n",
      "Label 2: Count 5958\n",
      "Label 3: Count 6131\n",
      "Label 6: Count 5918\n",
      "Label 7: Count 6265\n",
      "Label 8: Count 5851\n"
     ]
    }
   ],
   "source": [
    "from collections import Counter\n",
    "\n",
    "# Count the occurrences of each label in the y_train array using Counter\n",
    "label_counts = Counter(y_train)\n",
    "\n",
    "# Iterate over the items in the label_counts dictionary\n",
    "for label, count in label_counts.items():\n",
    "    # Print out the label and its corresponding count in a formatted string\n",
    "    print(f\"Label {label}: Count {count}\")\n"
   ]
  },
  {
   "cell_type": "markdown",
   "id": "5d90b2a7",
   "metadata": {
    "papermill": {
     "duration": 0.003853,
     "end_time": "2024-07-07T21:19:21.640163",
     "exception": false,
     "start_time": "2024-07-07T21:19:21.636310",
     "status": "completed"
    },
    "tags": []
   },
   "source": [
    "## Disribution of samples in Training set"
   ]
  },
  {
   "cell_type": "code",
   "execution_count": 7,
   "id": "97c4a79d",
   "metadata": {
    "execution": {
     "iopub.execute_input": "2024-07-07T21:19:21.650110Z",
     "iopub.status.busy": "2024-07-07T21:19:21.649368Z",
     "iopub.status.idle": "2024-07-07T21:19:22.007619Z",
     "shell.execute_reply": "2024-07-07T21:19:22.006644Z"
    },
    "papermill": {
     "duration": 0.365662,
     "end_time": "2024-07-07T21:19:22.009784",
     "exception": false,
     "start_time": "2024-07-07T21:19:21.644122",
     "status": "completed"
    },
    "tags": []
   },
   "outputs": [
    {
     "data": {
      "image/png": "[encoded data removed]",
      "text/plain": [
       "<Figure size 1500x1000 with 1 Axes>"
      ]
     },
     "metadata": {},
     "output_type": "display_data"
    }
   ],
   "source": [
    "import matplotlib.pyplot as plt\n",
    "\n",
    "# Get the unique labels and their counts\n",
    "unique_labels, counts = np.unique(train_labels, return_counts=True)\n",
    "\n",
    "# Create a bar chart\n",
    "plt.figure(figsize=(15, 10))\n",
    "bars = plt.bar(unique_labels, counts, color='skyblue')\n",
    "plt.xlabel('Labels')\n",
    "plt.ylabel('Number of Samples')\n",
    "plt.title('Distribution of Labels in MNIST Training Set')\n",
    "plt.xticks(unique_labels)\n",
    "plt.grid(axis='y', linestyle='--', alpha=0.7)\n",
    "\n",
    "# Annotate the bars with labels (digits 0-9)\n",
    "for bar, label in zip(bars, unique_labels):\n",
    "    plt.text(bar.get_x() + bar.get_width() / 2, bar.get_height() - 500, \n",
    "             f'{label}', ha='center', va='bottom', color='black', fontweight='bold')\n",
    "\n",
    "# Show the plot\n",
    "plt.show()"
   ]
  },
  {
   "cell_type": "markdown",
   "id": "cad62e13",
   "metadata": {
    "papermill": {
     "duration": 0.004559,
     "end_time": "2024-07-07T21:19:22.019270",
     "exception": false,
     "start_time": "2024-07-07T21:19:22.014711",
     "status": "completed"
    },
    "tags": []
   },
   "source": [
    "# Training Algorithms on the MNIST Dataset"
   ]
  },
  {
   "cell_type": "code",
   "execution_count": 8,
   "id": "47f51bf1",
   "metadata": {
    "execution": {
     "iopub.execute_input": "2024-07-07T21:19:22.030821Z",
     "iopub.status.busy": "2024-07-07T21:19:22.030448Z",
     "iopub.status.idle": "2024-07-07T21:19:22.060215Z",
     "shell.execute_reply": "2024-07-07T21:19:22.059237Z"
    },
    "papermill": {
     "duration": 0.038185,
     "end_time": "2024-07-07T21:19:22.062662",
     "exception": false,
     "start_time": "2024-07-07T21:19:22.024477",
     "status": "completed"
    },
    "tags": []
   },
   "outputs": [
    {
     "name": "stdout",
     "output_type": "stream",
     "text": [
      "+------------------------+----------------+\n",
      "| Model                  |   Accuracy (%) |\n",
      "+========================+================+\n",
      "| RandomForestClassifier |          97.01 |\n",
      "+------------------------+----------------+\n",
      "| KNeighborsClassifier   |          96.88 |\n",
      "+------------------------+----------------+\n",
      "| SupportVectorMachine   |          96.6  |\n",
      "+------------------------+----------------+\n",
      "| MultiLayerPerceptron   |          97.36 |\n",
      "+------------------------+----------------+\n",
      "| LogisticRegression     |          92.55 |\n",
      "+------------------------+----------------+\n",
      "| XgboostClassifier      |          97.95 |\n",
      "+------------------------+----------------+\n",
      "| CNN                    |          99.23 |\n",
      "+------------------------+----------------+\n",
      "| CNN with datagen       |          99.9  |\n",
      "+------------------------+----------------+\n"
     ]
    }
   ],
   "source": [
    "from tabulate import tabulate\n",
    "\n",
    "# Define accuracies for each model\n",
    "accuracies = {\n",
    "    \"RandomForestClassifier\": 97.01,\n",
    "    \"KNeighborsClassifier\": 96.88,\n",
    "    \"SupportVectorMachine\": 96.6,\n",
    "    \"MultiLayerPerceptron\": 97.36,\n",
    "    \"LogisticRegression\": 92.55,\n",
    "    \"XgboostClassifier\": 97.95,\n",
    "    \"CNN\": 99.23,\n",
    "    \"CNN with datagen\": 99.9  # Manually added CNN with datagen\n",
    "}\n",
    "\n",
    "# Create the table using tabulate\n",
    "table = tabulate(accuracies.items(), headers=[\"Model\", \"Accuracy (%)\"], tablefmt=\"grid\")\n",
    "\n",
    "# Print the table\n",
    "print(table)\n"
   ]
  }
 ],
 "metadata": {
  "kaggle": {
   "accelerator": "gpu",
   "dataSources": [
    {
     "datasetId": 102285,
     "sourceId": 242592,
     "sourceType": "datasetVersion"
    }
   ],
   "dockerImageVersionId": 30716,
   "isGpuEnabled": true,
   "isInternetEnabled": true,
   "language": "python",
   "sourceType": "notebook"
  },
  "kernelspec": {
   "display_name": "Python 3",
   "language": "python",
   "name": "python3"
  },
  "language_info": {
   "codemirror_mode": {
    "name": "ipython",
    "version": 3
   },
   "file_extension": ".py",
   "mimetype": "text/x-python",
   "name": "python",
   "nbconvert_exporter": "python",
   "pygments_lexer": "ipython3",
   "version": "3.10.13"
  },
  "papermill": {
   "default_parameters": {},
   "duration": 5.36398,
   "end_time": "2024-07-07T21:19:22.486431",
   "environment_variables": {},
   "exception": null,
   "input_path": "__notebook__.ipynb",
   "output_path": "__notebook__.ipynb",
   "parameters": {},
   "start_time": "2024-07-07T21:19:17.122451",
   "version": "2.5.0"
  }
 },
 "nbformat": 4,
 "nbformat_minor": 5
}
